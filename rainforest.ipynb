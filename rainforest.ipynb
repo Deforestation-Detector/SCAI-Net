{
  "cells": [
    {
      "cell_type": "markdown",
      "source": [
        "<a href=\"https://colab.research.google.com/github/Donovanphenry/SCAI-Net/blob/main/rainforest.ipynb\" target=\"_parent\"><img src=\"https://colab.research.google.com/assets/colab-badge.svg\" alt=\"Open In Colab\"/></a>"
      ],
      "metadata": {
        "id": "view-in-github",
        "colab_type": "text"
      }
    },
    {
      "cell_type": "markdown",
      "source": [
        "### We can construct a mosaic of nearby tiles using this method: https://www.kaggle.com/c/planet-understanding-the-amazon-from-space/discussion/36738"
      ],
      "metadata": {
        "id": "B8sALVSeZbDI"
      }
    },
    {
      "cell_type": "markdown",
      "source": [
        "# Preprocess data\r\n",
        "---"
      ],
      "metadata": {
        "id": "yztgcSUwSDwZ"
      }
    },
    {
      "cell_type": "markdown",
      "source": [
        "# Construct model\r\n",
        "---"
      ],
      "metadata": {
        "id": "8xaJCZcWSH19"
      }
    },
    {
      "cell_type": "markdown",
      "source": [
        "# Train model\r\n",
        "---"
      ],
      "metadata": {
        "id": "ndTycMqHSFgl"
      }
    },
    {
      "cell_type": "markdown",
      "source": [
        "# View results\r\n",
        "---"
      ],
      "metadata": {
        "id": "mv0PFiSDSJr7"
      }
    }
  ],
  "metadata": {
    "colab": {
      "collapsed_sections": [],
      "name": "rainforest.ipynb",
      "provenance": [],
      "history_visible": true,
      "authorship_tag": "ABX9TyPJmOGjzu1qhuay2vw9EljN",
      "include_colab_link": true
    },
    "kernelspec": {
      "display_name": "Python 3",
      "name": "python3"
    },
    "language_info": {
      "name": "python"
    }
  },
  "nbformat": 4,
  "nbformat_minor": 2
}