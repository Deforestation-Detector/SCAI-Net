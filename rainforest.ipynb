{
  "cells": [
    {
      "cell_type": "markdown",
      "metadata": {
        "id": "B8sALVSeZbDI"
      },
      "source": [
        "### We can construct a mosaic of nearby tiles using this method: https://www.kaggle.com/c/planet-understanding-the-amazon-from-space/discussion/36738"
      ]
    },
    {
      "cell_type": "markdown",
      "metadata": {},
      "source": [
        "# Construct image tile mosaic\n",
        "---"
      ]
    },
    {
      "cell_type": "code",
      "execution_count": 2,
      "metadata": {},
      "outputs": [
        {
          "name": "stdout",
          "output_type": "stream",
          "text": [
            "0.00 % complete\n",
            "5.00 % complete\n",
            "10.00 % complete\n",
            "15.00 % complete\n",
            "20.00 % complete\n",
            "25.00 % complete\n",
            "30.00 % complete\n",
            "35.00 % complete\n",
            "40.00 % complete\n",
            "45.00 % complete\n",
            "50.00 % complete\n",
            "55.00 % complete\n",
            "60.00 % complete\n",
            "65.00 % complete\n",
            "70.00 % complete\n",
            "75.00 % complete\n",
            "80.00 % complete\n",
            "85.00 % complete\n",
            "90.00 % complete\n",
            "95.00 % complete\n"
          ]
        }
      ],
      "source": [
        "# first pass, construct a list of image strips\n",
        "import matplotlib\n",
        "from matplotlib import pyplot as plt\n",
        "import os\n",
        "import numpy as np\n",
        "\n",
        "train_path = 'data/train-jpg/'\n",
        "\n",
        "num_images = len(os.listdir(train_path))\n",
        "\n",
        "image_strip_list = []\n",
        "\n",
        "num_jpgs = 10000\n",
        "for iter, file in enumerate(os.listdir(train_path)[:num_jpgs]):\n",
        "    # print(f\"iter = {iter}\")\n",
        "    # load image as numpy array\n",
        "\n",
        "    # NOTE: POSSIBLE BOTTLENECK BELOW. READING IMAGE ON EACH ITER\n",
        "    image = matplotlib.image.imread(train_path + file)\n",
        "\n",
        "    # drop alpha channel\n",
        "    image = image[:, :, :3]\n",
        "\n",
        "    # 1) Get vectors of all edges of images. So 4 vectors of size 3*256 for each image.\n",
        "    left = image[:, 0, :]\n",
        "    right = image[:, 255, :]\n",
        "    top = image[0, :, :]\n",
        "    bottom = image[255, :, :]\n",
        "\n",
        "    # append to list containing 4-tuples of image strips: (left, right, top, bottom)\n",
        "    image_strip_list.append( (left, right, top, bottom) )\n",
        "\n",
        "    if iter % 500 == 0:\n",
        "        print(f\"{(100 * iter / num_jpgs):.2f} % complete\")"
      ]
    },
    {
      "cell_type": "code",
      "execution_count": 3,
      "metadata": {},
      "outputs": [
        {
          "name": "stdout",
          "output_type": "stream",
          "text": [
            "2.5 % complete\n",
            "5.0 % complete\n",
            "7.5 % complete\n",
            "10.0 % complete\n",
            "12.5 % complete\n"
          ]
        }
      ],
      "source": [
        "# second pass, find neighboring images based on their strips\n",
        "\n",
        "# In this algorithm, we assume that images have not been rotated\n",
        "\n",
        "# 2) For each image find difference between top vector and bottom vector of all other images. Take the minimum. It will be the TOP neighbour. Do the same for BOTTOM, LEFT and RIGHT.\n",
        "\n",
        "# my idea: construct a dictionary where: \n",
        "#   * key is an integer representing the image name\n",
        "#   * value is a 4-list of 2-lists\n",
        "#       * 4-list: [ [left, diff.], [right, diff.], [top, diff.], [bottom, diff.] ]\n",
        "# The 4-list represents the current best neighboring images and their\n",
        "# difference (after subtracting two image strips)\n",
        "\n",
        "INIT_DIFF = float('inf')\n",
        "\n",
        "image_mosaic_dict = {i:[[None, INIT_DIFF], [None, INIT_DIFF], [None, INIT_DIFF], [None, INIT_DIFF]] for i in range(num_images)}\n",
        "\n",
        "for image_index, image in enumerate(image_strip_list):\n",
        "\n",
        "    # iterate over image strip sides. Note:\n",
        "    # strip_indices are defined as follows:\n",
        "    # 0: left\n",
        "    # 1: right\n",
        "    # 2: top\n",
        "    # 3: bottom\n",
        "    # check to see if strip already has a neighbor\n",
        "    neighbor = image_mosaic_dict[image_index][0][0]\n",
        "    difference = image_mosaic_dict[image_index][0][1]\n",
        "\n",
        "    (strip_left, strip_right, strip_top, strip_bottom) = image_strip_list[image_index]\n",
        "\n",
        "    for possible_index, (possible_left, possible_right, possible_top, possible_bottom) in enumerate(image_strip_list):\n",
        "\n",
        "        # image cannot match with itself\n",
        "        if image_index == possible_index:\n",
        "            continue\n",
        "\n",
        "        # Comparing left side of current image with right side of possible neighbor\n",
        "        neighbor = image_mosaic_dict[image_index][0][0]\n",
        "        difference = image_mosaic_dict[image_index][0][1]\n",
        "        new_difference = np.abs(np.sum(strip_left - possible_right))\n",
        "        if new_difference < difference:\n",
        "            # update current strip info\n",
        "            image_mosaic_dict[image_index][0][0] = possible_index\n",
        "            image_mosaic_dict[image_index][0][1] = new_difference\n",
        "\n",
        "        # Comparing right side of current image with left side of possible neighbor\n",
        "        neighbor = image_mosaic_dict[image_index][1][0]\n",
        "        difference = image_mosaic_dict[image_index][1][1]\n",
        "        new_difference = np.abs(np.sum(strip_right - possible_left))\n",
        "        if new_difference < difference:\n",
        "            # update current strip info\n",
        "            image_mosaic_dict[image_index][1][0] = possible_index\n",
        "            image_mosaic_dict[image_index][1][1] = new_difference\n",
        "        \n",
        "        # Comparing top side of current image with bottom side of possible neighbor\n",
        "        neighbor = image_mosaic_dict[image_index][2][0]\n",
        "        difference = image_mosaic_dict[image_index][2][1]\n",
        "        new_difference = np.abs(np.sum(strip_top - possible_bottom))\n",
        "        if new_difference < difference:\n",
        "            # update current strip info\n",
        "            image_mosaic_dict[image_index][2][0] = possible_index\n",
        "            image_mosaic_dict[image_index][2][1] = new_difference\n",
        "\n",
        "        # Comparing bottom side of current image with top side of possible neighbor\n",
        "        neighbor = image_mosaic_dict[image_index][3][0]\n",
        "        difference = image_mosaic_dict[image_index][3][1]\n",
        "        new_difference = np.abs(np.sum(strip_bottom - possible_top))\n",
        "        if new_difference < difference:\n",
        "            # update current strip info\n",
        "            image_mosaic_dict[image_index][3][0] = possible_index\n",
        "            image_mosaic_dict[image_index][3][1] = new_difference\n",
        "    \n",
        "    if image_index % 250 == 0 and image_index != 0:\n",
        "            print(f\"{(100 * image_index / num_jpgs)} % complete\")"
      ]
    },
    {
      "cell_type": "code",
      "execution_count": null,
      "metadata": {},
      "outputs": [],
      "source": [
        "# PEOPLE ON THE KAGGLE FORUMS SAY THAT, (in general), THE .tiff IMAGES WERE NOT \n",
        "# USEFUL. That might be the same case here.\n",
        "\n",
        "# 3) Using the same algorithm get neighbours for all TIFF images.\n",
        "\n",
        "# 4) Remove neighbours which is different for JPG and TIFF images.\n",
        "\n",
        "# 5) Use diagonals to additional improvements. For example check that diagonal element have same neighbours as central one without conflicts and so on…\n",
        "\n",
        "# 6) Use CNN averaged predictions for 4 or 8 neighbours as features for central element\n",
        "\n",
        "curr_min = float('inf')\n",
        "curr = curr_neighbor = 0\n",
        "for index in image_mosaic_dict:\n",
        "    neighbor_index = image_mosaic_dict[index][0][0]\n",
        "    if image_mosaic_dict[neighbor_index][1][0] == index and image_mosaic_dict[index][0][1] < curr_min:\n",
        "        print(f\"found left: curr = {index}, neighbor = {neighbor_index} w/ diff = {image_mosaic_dict[index][0][1]}\")\n",
        "        curr_min = image_mosaic_dict[index][0][1]\n",
        "        curr, curr_neighbor = index, neighbor_index\n",
        "    \n",
        "    neighbor_index = image_mosaic_dict[index][1][0]\n",
        "    if image_mosaic_dict[neighbor_index][0][0] == index and image_mosaic_dict[index][1][1] < curr_min:\n",
        "        print(f\"found right: curr = {index}, neighbor = {neighbor_index} w/ diff = {image_mosaic_dict[index][1][1]}\")\n",
        "        curr_min = image_mosaic_dict[index][1][1]\n",
        "        curr, curr_neighbor = index, neighbor_index\n",
        "\n",
        "    neighbor_index = image_mosaic_dict[index][2][0]\n",
        "    if image_mosaic_dict[neighbor_index][3][0] == index and image_mosaic_dict[index][2][1] < curr_min:\n",
        "        print(f\"found top: curr = {index}, neighbor_index = {neighbor_index} w/ diff = {image_mosaic_dict[index][2][1]}\")\n",
        "        curr_min = image_mosaic_dict[index][2][1]\n",
        "        curr, curr_neighbor = index, neighbor_index\n",
        "    \n",
        "    neighbor_index = image_mosaic_dict[index][3][0]\n",
        "    if image_mosaic_dict[neighbor_index][2][0] == index and image_mosaic_dict[index][3][1] < curr_min:\n",
        "        print(f\"found bottom: curr = {index}, neighbor = {neighbor_index} w/ diff = {image_mosaic_dict[index][3][1]}\")\n",
        "        print(f'curr_min = {curr_min}')\n",
        "        curr_min = image_mosaic_dict[index][3][1]\n",
        "        curr, curr_neighbor = index, neighbor_index\n",
        "    \n",
        "    if index == 4999:\n",
        "        break\n",
        "\n",
        "print(f\"curr = {curr}, curr_neighbor = {curr_neighbor} and curr_min = {curr_min}\")\n",
        "# print(image_mosaic_dict)"
      ]
    },
    {
      "cell_type": "markdown",
      "metadata": {
        "id": "yztgcSUwSDwZ"
      },
      "source": [
        "# Preprocess data\n",
        "---"
      ]
    },
    {
      "cell_type": "code",
      "execution_count": null,
      "metadata": {},
      "outputs": [],
      "source": [
        "# extract labels from training data\n",
        "import pandas as pd\n",
        "\n",
        "train_data = pd.read_csv('data/train_v2.csv/train_v2.csv')\n",
        "print(train_data['tags'].values)\n",
        "\n",
        "unique_labels = []\n",
        "for line in train_data['tags'].values:\n",
        "    for label in line.split():\n",
        "        if label not in unique_labels:\n",
        "            unique_labels.append(label)\n",
        "            print(label)\n",
        "\n",
        "print(len(unique_labels))"
      ]
    },
    {
      "cell_type": "markdown",
      "metadata": {
        "id": "8xaJCZcWSH19"
      },
      "source": [
        "# Construct model\n",
        "---"
      ]
    },
    {
      "cell_type": "markdown",
      "metadata": {
        "id": "ndTycMqHSFgl"
      },
      "source": [
        "# Train model\n",
        "---"
      ]
    },
    {
      "cell_type": "markdown",
      "metadata": {
        "id": "mv0PFiSDSJr7"
      },
      "source": [
        "# View results\n",
        "---"
      ]
    }
  ],
  "metadata": {
    "colab": {
      "authorship_tag": "ABX9TyPJmOGjzu1qhuay2vw9EljN",
      "collapsed_sections": [],
      "history_visible": true,
      "include_colab_link": true,
      "name": "rainforest.ipynb",
      "provenance": []
    },
    "kernelspec": {
      "display_name": "Python 3",
      "name": "python3"
    },
    "language_info": {
      "codemirror_mode": {
        "name": "ipython",
        "version": 3
      },
      "file_extension": ".py",
      "mimetype": "text/x-python",
      "name": "python",
      "nbconvert_exporter": "python",
      "pygments_lexer": "ipython3",
      "version": "3.9.9"
    }
  },
  "nbformat": 4,
  "nbformat_minor": 2
}
