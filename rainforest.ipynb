{
  "cells": [
    {
      "cell_type": "markdown",
      "metadata": {
        "id": "B8sALVSeZbDI"
      },
      "source": [
        "### We can construct a mosaic of nearby tiles using this method: https://www.kaggle.com/c/planet-understanding-the-amazon-from-space/discussion/36738"
      ]
    },
    {
      "cell_type": "markdown",
      "metadata": {},
      "source": [
        "# Construct image tile mosaic\n",
        "---"
      ]
    },
    {
      "cell_type": "code",
      "execution_count": 1,
      "metadata": {},
      "outputs": [
        {
          "name": "stdout",
          "output_type": "stream",
          "text": [
            "0.00 % complete\n",
            "5.00 % complete\n",
            "10.00 % complete\n",
            "15.00 % complete\n",
            "20.00 % complete\n",
            "25.00 % complete\n",
            "30.00 % complete\n",
            "35.00 % complete\n",
            "40.00 % complete\n",
            "45.00 % complete\n",
            "50.00 % complete\n",
            "55.00 % complete\n",
            "60.00 % complete\n",
            "65.00 % complete\n",
            "70.00 % complete\n",
            "75.00 % complete\n",
            "80.00 % complete\n",
            "85.00 % complete\n",
            "90.00 % complete\n",
            "95.00 % complete\n"
          ]
        }
      ],
      "source": [
        "# first pass, construct a list of image strips\n",
        "import matplotlib\n",
        "from matplotlib import pyplot as plt\n",
        "import os\n",
        "import numpy as np\n",
        "#test\n",
        "\n",
        "train_path = 'data/train-jpg/'\n",
        "\n",
        "num_images = len(os.listdir(train_path))\n",
        "\n",
        "image_strip_list = []\n",
        "\n",
        "num_jpgs = 5000\n",
        "for iter, file in enumerate(os.listdir(train_path)[:num_jpgs]):\n",
        "    # print(f\"iter = {iter}\")\n",
        "    # load image as numpy array\n",
        "\n",
        "    # NOTE: POSSIBLE BOTTLENECK BELOW. READING IMAGE ON EACH ITER\n",
        "    image = matplotlib.image.imread(train_path + file).astype(int)\n",
        "\n",
        "    # drop alpha channel\n",
        "    image = image[:, :, :3]\n",
        "\n",
        "    # 1) Get vectors of all edges of images. So 4 vectors of size 3*256 for each image.\n",
        "    left = image[:, 0, :]\n",
        "    right = image[:, 255, :]\n",
        "    top = image[0, :, :]\n",
        "    bottom = image[255, :, :]\n",
        "\n",
        "    # append to list containing 4-tuples of image strips: (left, right, top, bottom)\n",
        "    image_strip_list.append( (left, right, top, bottom) )\n",
        "\n",
        "    if iter % (0.05 * num_jpgs) == 0:\n",
        "        print(f\"{(100 * iter / num_jpgs):.2f} % complete\")"
      ]
    },
    {
      "cell_type": "markdown",
      "metadata": {},
      "source": [
        "### Utility Function for taking difference between two images"
      ]
    },
    {
      "cell_type": "code",
      "execution_count": 30,
      "metadata": {},
      "outputs": [
        {
          "name": "stdout",
          "output_type": "stream",
          "text": [
            "5.0 % complete\n",
            "10.0 % complete\n",
            "15.0 % complete\n"
          ]
        }
      ],
      "source": [
        "# second pass, find neighboring images based on their strips\n",
        "\n",
        "# In this algorithm, we assume that images have not been rotated\n",
        "\n",
        "# 2) For each image find difference between top vector and bottom vector of all other images. Take the minimum. It will be the TOP neighbour. Do the same for BOTTOM, LEFT and RIGHT.\n",
        "\n",
        "# my idea: construct a dictionary where: \n",
        "#   * key is an integer representing the image name\n",
        "#   * value is a 4-list of 2-lists\n",
        "#       * 4-list: [ [left, diff.], [right, diff.], [top, diff.], [bottom, diff.] ]\n",
        "# The 4-list represents the current best neighboring images and their\n",
        "# difference (after subtracting two image strips)\n",
        "\n",
        "INIT_DIFF = float('inf')\n",
        "\n",
        "image_mosaic_dict = {i:[[None, INIT_DIFF], [None, INIT_DIFF], [None, INIT_DIFF], [None, INIT_DIFF]] for i in range(num_images)}\n",
        "\n",
        "for image_index, image in enumerate(image_strip_list):\n",
        "\n",
        "    # iterate over image strip sides. Note:\n",
        "    # strip_indices are defined as follows:\n",
        "    # 0: left\n",
        "    # 1: right\n",
        "    # 2: top\n",
        "    # 3: bottom\n",
        "    # check to see if strip already has a neighbor\n",
        "    difference = image_mosaic_dict[image_index][0][1]\n",
        "\n",
        "    (strip_left, strip_right, strip_top, strip_bottom) = image_strip_list[image_index]\n",
        "\n",
        "    for possible_index, (possible_left, possible_right, possible_top, possible_bottom) in enumerate(image_strip_list):\n",
        "\n",
        "        # image cannot match with itself\n",
        "        if image_index == possible_index:\n",
        "            continue\n",
        "\n",
        "        # Comparing left side of current image with right side of possible neighbor\n",
        "        difference = image_mosaic_dict[image_index][0][1]\n",
        "        new_difference = np.sum(np.abs(strip_left - possible_right))\n",
        "        if new_difference < difference:\n",
        "            # update current strip info\n",
        "            image_mosaic_dict[image_index][0][0] = possible_index\n",
        "            image_mosaic_dict[image_index][0][1] = new_difference\n",
        "\n",
        "        # Comparing right side of current image with left side of possible neighbor\n",
        "        difference = image_mosaic_dict[image_index][1][1]\n",
        "        new_difference = np.sum(np.abs(strip_right - possible_left))\n",
        "        if new_difference < difference:\n",
        "            # update current strip info\n",
        "            image_mosaic_dict[image_index][1][0] = possible_index\n",
        "            image_mosaic_dict[image_index][1][1] = new_difference\n",
        "        \n",
        "        # Comparing top side of current image with bottom side of possible neighbor\n",
        "        difference = image_mosaic_dict[image_index][2][1]\n",
        "        new_difference = np.sum(np.abs(strip_top - possible_bottom))\n",
        "        if new_difference < difference:\n",
        "            # update current strip info\n",
        "            image_mosaic_dict[image_index][2][0] = possible_index\n",
        "            image_mosaic_dict[image_index][2][1] = new_difference\n",
        "\n",
        "        # Comparing bottom side of current image with top side of possible neighbor\n",
        "        difference = image_mosaic_dict[image_index][3][1]\n",
        "        new_difference = np.sum(np.abs(strip_bottom - possible_top))\n",
        "        if new_difference < difference:\n",
        "            # update current strip info\n",
        "            image_mosaic_dict[image_index][3][0] = possible_index\n",
        "            image_mosaic_dict[image_index][3][1] = new_difference\n",
        "    \n",
        "    if image_index % (0.05 * num_jpgs) == 0 and image_index != 0:\n",
        "            print(f\"{(100 * image_index / num_jpgs)} % complete\")"
      ]
    },
    {
      "cell_type": "code",
      "execution_count": 8,
      "metadata": {},
      "outputs": [
        {
          "name": "stdout",
          "output_type": "stream",
          "text": [
            "5.0 % complete\n",
            "10.0 % complete\n",
            "15.0 % complete\n",
            "20.0 % complete\n",
            "25.0 % complete\n",
            "30.0 % complete\n",
            "35.0 % complete\n",
            "40.0 % complete\n",
            "45.0 % complete\n",
            "50.0 % complete\n",
            "55.0 % complete\n",
            "60.0 % complete\n",
            "65.0 % complete\n",
            "70.0 % complete\n",
            "75.0 % complete\n",
            "80.0 % complete\n",
            "85.0 % complete\n",
            "90.0 % complete\n",
            "95.0 % complete\n",
            "curr = 0, curr_neighbor = 0 and curr_min = inf\n"
          ]
        }
      ],
      "source": [
        "# PEOPLE ON THE KAGGLE FORUMS SAY THAT, (in general), THE .tiff IMAGES WERE NOT \n",
        "# USEFUL. That might be the same case here.\n",
        "\n",
        "# 3) Using the same algorithm get neighbours for all TIFF images.\n",
        "\n",
        "# 4) Remove neighbours which is different for JPG and TIFF images.\n",
        "\n",
        "# 5) Use diagonals to additional improvements. For example check that diagonal element have same neighbours as central one without conflicts and so on…\n",
        "\n",
        "# 6) Use CNN averaged predictions for 4 or 8 neighbours as features for central element\n",
        "\n",
        "curr_min = float('inf')\n",
        "curr = curr_neighbor = 0\n",
        "for index in image_mosaic_dict:\n",
        "    neighbor_index = image_mosaic_dict[index][0][0]\n",
        "    if image_mosaic_dict[neighbor_index][1][0] == index and image_mosaic_dict[index][0][1] < curr_min:\n",
        "        print(f\"found left: curr = {index}, neighbor = {neighbor_index} w/ diff = {image_mosaic_dict[index][0][1]}\")\n",
        "        curr_min = image_mosaic_dict[index][0][1]\n",
        "        curr, curr_neighbor = index, neighbor_index\n",
        "    \n",
        "    neighbor_index = image_mosaic_dict[index][1][0]\n",
        "    if image_mosaic_dict[neighbor_index][0][0] == index and image_mosaic_dict[index][1][1] < curr_min:\n",
        "        print(f\"found right: curr = {index}, neighbor = {neighbor_index} w/ diff = {image_mosaic_dict[index][1][1]}\")\n",
        "        curr_min = image_mosaic_dict[index][1][1]\n",
        "        curr, curr_neighbor = index, neighbor_index\n",
        "\n",
        "    neighbor_index = image_mosaic_dict[index][2][0]\n",
        "    if image_mosaic_dict[neighbor_index][3][0] == index and image_mosaic_dict[index][2][1] < curr_min:\n",
        "        print(f\"found top: curr = {index}, neighbor_index = {neighbor_index} w/ diff = {image_mosaic_dict[index][2][1]}\")\n",
        "        curr_min = image_mosaic_dict[index][2][1]\n",
        "        curr, curr_neighbor = index, neighbor_index\n",
        "    \n",
        "    neighbor_index = image_mosaic_dict[index][3][0]\n",
        "    if image_mosaic_dict[neighbor_index][2][0] == index and image_mosaic_dict[index][3][1] < curr_min:\n",
        "        print(f\"found bottom: curr = {index}, neighbor = {neighbor_index} w/ diff = {image_mosaic_dict[index][3][1]}\")\n",
        "        print(f'curr_min = {curr_min}')\n",
        "        curr_min = image_mosaic_dict[index][3][1]\n",
        "        curr, curr_neighbor = index, neighbor_index\n",
        "        \n",
        "    if index % (0.05 * num_jpgs) == 0 and index != 0:\n",
        "            print(f\"{(100 * index / num_jpgs)} % complete\")\n",
        "    \n",
        "    if index == num_jpgs - 1:\n",
        "        break\n",
        "\n",
        "print(f\"curr = {curr}, curr_neighbor = {curr_neighbor} and curr_min = {curr_min}\")\n",
        "# print(image_mosaic_dict)"
      ]
    },
    {
      "cell_type": "code",
      "execution_count": 15,
      "metadata": {},
      "outputs": [
        {
          "name": "stdout",
          "output_type": "stream",
          "text": [
            "[[3208, 9], [2960, 2], [4133, 3], [3221, 22]]\n"
          ]
        }
      ],
      "source": [
        "print(image_mosaic_dict[4790])"
      ]
    },
    {
      "cell_type": "code",
      "execution_count": 29,
      "metadata": {},
      "outputs": [
        {
          "name": "stdout",
          "output_type": "stream",
          "text": [
            "image_strip_list[4790][1][:3] = array([[30, 50, 45],\n",
            "       [36, 52, 49],\n",
            "       [40, 52, 51]])\n",
            "image_strip_list[3694][0][:3] = array([[50, 58, 50],\n",
            "       [49, 60, 51],\n",
            "       [47, 60, 50]])\n",
            "image_strip_list[2960][0][:3] = array([[59, 76, 49],\n",
            "       [56, 75, 48],\n",
            "       [52, 73, 45]])\n",
            "x = array([[20,  8,  5],\n",
            "       [13,  8,  2],\n",
            "       [ 7,  8,  1]])\n",
            "x.sum() = 72\n",
            "y = array([[29, 26,  4],\n",
            "       [20, 23,  1],\n",
            "       [12, 21,  6]])\n",
            "np.array([1, 2, 3]) - np.array([4, 2, 1]) = array([-3,  0,  2])\n"
          ]
        }
      ],
      "source": [
        "# Channel subtraction is the issue. For some reason, when the second operand is greater than the first, there's an\n",
        "# underflow and it loops back up to 255. To Fix: can't rely on np - operation, must do element-wise subtraction\n",
        "# on our own.\n",
        "\n",
        "# print(image_mosaic_dict[3694])\n",
        "\n",
        "pixel = 116\n",
        "channel = 1\n",
        "\n",
        "print(f\"{image_strip_list[4790][1][:3] = }\")\n",
        "print(f\"{image_strip_list[3694][0][:3] = }\")\n",
        "print(f\"{image_strip_list[2960][0][:3] = }\")\n",
        "\n",
        "x = np.absolute(image_strip_list[4790][1] - image_strip_list[3694][0])[:3]\n",
        "y = np.absolute(image_strip_list[4790][1] - image_strip_list[2960][0])[:3]\n",
        "\n",
        "print(f\"{x = }\")\n",
        "print(f\"{x.sum() = }\")\n",
        "print(f\"{y = }\")\n",
        "\n",
        "print(f\"{np.array([1, 2, 3]) - np.array([4, 2, 1]) = }\")"
      ]
    },
    {
      "cell_type": "markdown",
      "metadata": {
        "id": "yztgcSUwSDwZ"
      },
      "source": [
        "# Preprocess data\n",
        "---"
      ]
    },
    {
      "cell_type": "code",
      "execution_count": null,
      "metadata": {},
      "outputs": [],
      "source": [
        "# extract labels from training data\n",
        "import pandas as pd\n",
        "\n",
        "train_data = pd.read_csv('data/train_v2.csv/train_v2.csv')\n",
        "print(train_data['tags'].values)\n",
        "\n",
        "unique_labels = []\n",
        "for line in train_data['tags'].values:\n",
        "    for label in line.split():\n",
        "        if label not in unique_labels:\n",
        "            unique_labels.append(label)\n",
        "            print(label)\n",
        "\n",
        "print(len(unique_labels))"
      ]
    },
    {
      "cell_type": "markdown",
      "metadata": {
        "id": "8xaJCZcWSH19"
      },
      "source": [
        "# Construct model\n",
        "---"
      ]
    },
    {
      "cell_type": "markdown",
      "metadata": {
        "id": "ndTycMqHSFgl"
      },
      "source": [
        "# Train model\n",
        "---"
      ]
    },
    {
      "cell_type": "markdown",
      "metadata": {
        "id": "mv0PFiSDSJr7"
      },
      "source": [
        "# View results\n",
        "---"
      ]
    }
  ],
  "metadata": {
    "colab": {
      "authorship_tag": "ABX9TyPJmOGjzu1qhuay2vw9EljN",
      "collapsed_sections": [],
      "history_visible": true,
      "include_colab_link": true,
      "name": "rainforest.ipynb",
      "provenance": []
    },
    "kernelspec": {
      "display_name": "Python 3",
      "name": "python3"
    },
    "language_info": {
      "codemirror_mode": {
        "name": "ipython",
        "version": 3
      },
      "file_extension": ".py",
      "mimetype": "text/x-python",
      "name": "python",
      "nbconvert_exporter": "python",
      "pygments_lexer": "ipython3",
      "version": "3.9.9"
    }
  },
  "nbformat": 4,
  "nbformat_minor": 2
}
