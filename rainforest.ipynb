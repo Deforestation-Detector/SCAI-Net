{
  "cells": [
    {
      "cell_type": "markdown",
      "metadata": {
        "id": "view-in-github",
        "colab_type": "text"
      },
      "source": [
        "<a href=\"https://colab.research.google.com/github/Donovanphenry/SCAI-Net/blob/main/rainforest.ipynb\" target=\"_parent\"><img src=\"https://colab.research.google.com/assets/colab-badge.svg\" alt=\"Open In Colab\"/></a>"
      ]
    },
    {
      "cell_type": "markdown",
      "source": [
        "### We can construct a mosaic of nearby tiles using this method: https://www.kaggle.com/c/planet-understanding-the-amazon-from-space/discussion/36738"
      ],
      "metadata": {
        "id": "B8sALVSeZbDI"
      }
    },
    {
      "cell_type": "markdown",
      "metadata": {
        "id": "Y7-ekaQqjcxw"
      },
      "source": [
        "### Load data from the shared drive"
      ]
    },
    {
      "cell_type": "code",
      "execution_count": 1,
      "metadata": {
        "id": "NkEELJTHjNBN",
        "colab": {
          "base_uri": "https://localhost:8080/"
        },
        "outputId": "5d3f62dd-6c27-4354-a7da-944d3e6ca7a9"
      },
      "outputs": [
        {
          "output_type": "stream",
          "name": "stdout",
          "text": [
            "Mounted at /gdrive\n"
          ]
        }
      ],
      "source": [
        "# mount shared google drive\n",
        "from google.colab import drive\n",
        "drive.mount('/gdrive', force_remount=True)\n",
        "# compressed_path stores *.tar.7z and *.tar archives\n",
        "compressed_path = '/gdrive/Shareddrives/CSE 115a/data/compressed'\n",
        "data_path = '/gdrive/Shareddrives/CSE 115a/data/uncompressed'"
      ]
    },
    {
      "cell_type": "markdown",
      "source": [
        "#### These commands take a long time to run:\n",
        "\n",
        "* uploading individual and uncompressed files to colab is not viable (takes too long, even with gigabit internet)\n",
        "\n",
        "* the following two commands must be re-run for each dataset, otherwise colab will run out of VM disk\n",
        "\n",
        "* Advice from the Kaggle competiton: *For all the **tar.7z** files, you can extract them with:*\n",
        "``` \n",
        "$ 7za x train-jpg.tar.7z\n",
        "$ tar xf train-jpg.tar\n",
        "```\n",
        "\n",
        "* consider: https://gist.github.com/jamm1985/df7b8c0abb346d3dbe403bf06ae4f46f"
      ],
      "metadata": {
        "id": "Lq4l4k6HeEc1"
      }
    },
    {
      "cell_type": "code",
      "execution_count": null,
      "metadata": {
        "id": "4eqJp1Q-xOei"
      },
      "outputs": [],
      "source": [
        "# unzip data & move it to $data_path \n",
        "# -mnt=128 uses more threads\n",
        "# !7za x -mmt=128 \"$compressed_path\"/train-jpg.tar.7z -o\"$compressed_path\""
      ]
    },
    {
      "cell_type": "code",
      "execution_count": null,
      "metadata": {
        "id": "hEoYkkINuKVh"
      },
      "outputs": [],
      "source": [
        "# locally run this command to un-tar the .tar files, then re-upload them into $data_path\n",
        "# when running this command in colab, rerun to double check that all files were expanded\n",
        "!tar --skip-old-files -xvf \"$compressed_path\"/train-jpg.tar -C \"$data_path\" -i"
      ]
    },
    {
      "cell_type": "markdown",
      "metadata": {
        "id": "yztgcSUwSDwZ"
      },
      "source": [
        "### Preprocess data"
      ]
    },
    {
      "cell_type": "markdown",
      "metadata": {
        "id": "8xaJCZcWSH19"
      },
      "source": [
        "### Construct model"
      ]
    },
    {
      "cell_type": "markdown",
      "metadata": {
        "id": "ndTycMqHSFgl"
      },
      "source": [
        "### Train model"
      ]
    },
    {
      "cell_type": "markdown",
      "metadata": {
        "id": "mv0PFiSDSJr7"
      },
      "source": [
        "### View results"
      ]
    }
  ],
  "metadata": {
    "colab": {
      "collapsed_sections": [],
      "name": "rainforest.ipynb",
      "provenance": [],
      "history_visible": true,
      "authorship_tag": "ABX9TyPJmOGjzu1qhuay2vw9EljN",
      "include_colab_link": true
    },
    "kernelspec": {
      "display_name": "Python 3",
      "name": "python3"
    },
    "language_info": {
      "name": "python"
    }
  },
  "nbformat": 4,
  "nbformat_minor": 0
}