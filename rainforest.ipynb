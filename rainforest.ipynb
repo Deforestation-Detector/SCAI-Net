{
  "cells": [
    {
      "cell_type": "markdown",
      "metadata": {
        "id": "B8sALVSeZbDI"
      },
      "source": [
        "### We can construct a mosaic of nearby tiles using this method: https://www.kaggle.com/c/planet-understanding-the-amazon-from-space/discussion/36738"
      ]
    },
    {
      "cell_type": "markdown",
      "metadata": {},
      "source": [
        "# Construct image tile mosaic\n",
        "---"
      ]
    },
    {
      "cell_type": "code",
      "execution_count": null,
      "metadata": {},
      "outputs": [],
      "source": [
        "# first pass, construct a list of image strips\n",
        "import matplotlib\n",
        "from matplotlib import pyplot as plt\n",
        "import os\n",
        "import numpy as np\n",
        "\n",
        "train_path = 'data/train-jpg/'\n",
        "\n",
        "num_images = len(os.listdir(train_path))\n",
        "\n",
        "image_strip_list = []\n",
        "\n",
        "for file in os.listdir(train_path):\n",
        "    # load image as numpy array\n",
        "    image = matplotlib.image.imread(train_path + file)\n",
        "\n",
        "    # drop alpha channel\n",
        "    image = image[:, :, :3]\n",
        "\n",
        "    # 1) Get vectors of all edges of images. So 4 vectors of size 3*256 for each image.\n",
        "    left = image[:, 0, :]\n",
        "    right = image[:, 255, :]\n",
        "    top = image[0, :, :]\n",
        "    bottom = image[255, :, :]\n",
        "\n",
        "    # append to list containing 4-tuples of image strips: (left, right, top, bottom)\n",
        "    image_strip_list.append( (left, right, top, bottom) )"
      ]
    },
    {
      "cell_type": "code",
      "execution_count": null,
      "metadata": {},
      "outputs": [],
      "source": [
        "# second pass, find neighboring images based on their strips\n",
        "\n",
        "# In this algorithm, we assume that images have not been rotated\n",
        "\n",
        "# 2) For each image find difference between top vector and bottom vector of all other images. Take the minimum. It will be the TOP neighbour. Do the same for BOTTOM, LEFT and RIGHT.\n",
        "\n",
        "# my idea: construct a dictionary where: \n",
        "#   * key is an integer representing the image name\n",
        "#   * value is a 4-list of 2-lists\n",
        "#       * 4-list: [ [left, diff.], [right, diff.], [top, diff.], [bottom, diff.] ]\n",
        "# The 4-list represents the current best neighboring images and their\n",
        "# difference (after subtracting two image strips)\n",
        "\n",
        "INIT_DIFF = 999999999\n",
        "\n",
        "image_mosaic_dict = {i:[[None, INIT_DIFF], [None, INIT_DIFF], [None, INIT_DIFF], [None, INIT_DIFF]] for i in range(num_images)}\n",
        "\n",
        "for image_index, image in enumerate(image_strip_list):\n",
        "\n",
        "    # iterate over image strip sides\n",
        "    for side_index, side in enumerate(image):\n",
        "\n",
        "        # check to see if side already has a neighbor\n",
        "        neighbor = image_mosaic_dict[image_index][side_index][0]\n",
        "        difference = image_mosaic_dict[image_index][side_index][1]\n",
        "        if (neighbor, difference) != (None, INIT_DIFF):\n",
        "            continue\n",
        "        else:\n",
        "\n",
        "            # side is left, search for rights\n",
        "            if side_index == 0:\n",
        "                for possible_index, (_, possible_right, _, _) in enumerate(image_strip_list):\n",
        "\n",
        "                    # if difference is greater, take the new side\n",
        "                    new_difference = np.abs(np.sum(side) - np.sum(possible_right))\n",
        "                    if new_difference < difference:\n",
        "                        # update current side info\n",
        "                        image_mosaic_dict[image_index][side_index][0] = possible_index\n",
        "                        image_mosaic_dict[image_index][side_index][1] = new_difference\n",
        "\n",
        "                        # update new neighboring side info\n",
        "                        image_mosaic_dict[possible_index][1][0] = image_index\n",
        "                        image_mosaic_dict[possible_index][1][1] = new_difference\n",
        "\n",
        "            # side is right, search for lefts\n",
        "            if side_index == 1:\n",
        "                for possible_index, (possible_left, _, _, _) in enumerate(image_strip_list):\n",
        "\n",
        "                    # if difference is greater, take the new side\n",
        "                    new_difference = np.abs(np.sum(side) - np.sum(possible_left))\n",
        "                    if new_difference < difference:\n",
        "                        # update current side info\n",
        "                        image_mosaic_dict[image_index][side_index][0] = possible_index\n",
        "                        image_mosaic_dict[image_index][side_index][1] = new_difference\n",
        "\n",
        "                        # update new neighboring side info\n",
        "                        image_mosaic_dict[possible_index][0][0] = image_index\n",
        "                        image_mosaic_dict[possible_index][0][1] = new_difference\n",
        "\n",
        "            # side is top, search for bottoms\n",
        "            if side_index == 2:\n",
        "                for possible_index, (_, _, _, possible_bottom) in enumerate(image_strip_list):\n",
        "\n",
        "                    # if difference is greater, take the new side\n",
        "                    new_difference = np.abs(np.sum(side) - np.sum(possible_bottom))\n",
        "                    if new_difference < difference:\n",
        "                        # update current side info\n",
        "                        image_mosaic_dict[image_index][side_index][0] = possible_index\n",
        "                        image_mosaic_dict[image_index][side_index][1] = new_difference\n",
        "\n",
        "                        # update new neighboring side info\n",
        "                        image_mosaic_dict[possible_index][3][0] = image_index\n",
        "                        image_mosaic_dict[possible_index][3][1] = new_difference\n",
        "\n",
        "            # side is bottom, search for tops\n",
        "            if side_index == 3:\n",
        "                for possible_index, (_, _, possible_top, _) in enumerate(image_strip_list):\n",
        "\n",
        "                    # if difference is greater, take the new side\n",
        "                    new_difference = np.abs(np.sum(side) - np.sum(possible_top))\n",
        "                    if new_difference < difference:\n",
        "                        # update current side info\n",
        "                        image_mosaic_dict[image_index][side_index][0] = possible_index\n",
        "                        image_mosaic_dict[image_index][side_index][1] = new_difference\n",
        "\n",
        "                        # update new neighboring side info\n",
        "                        image_mosaic_dict[possible_index][2][0] = image_index\n",
        "                        image_mosaic_dict[possible_index][2][1] = new_difference"
      ]
    },
    {
      "cell_type": "code",
      "execution_count": null,
      "metadata": {},
      "outputs": [],
      "source": []
    },
    {
      "cell_type": "code",
      "execution_count": null,
      "metadata": {},
      "outputs": [],
      "source": [
        "                        image_mosaic_dict[possible_index][2][0] = image_index\n",
        "                        image_mosaic_dict[possible_index][2][1] = new_difference"
      ]
    },
    {
      "cell_type": "code",
      "execution_count": null,
      "metadata": {},
      "outputs": [],
      "source": [
        "# PEOPLE ON THE KAGGLE FORUMS SAY THAT, (in general), THE .tiff IMAGES WERE NOT \n",
        "# USEFUL. That might be the same case here.\n",
        "\n",
        "# 3) Using the same algorithm get neighbours for all TIFF images.\n",
        "\n",
        "# 4) Remove neighbours which is different for JPG and TIFF images.\n",
        "\n",
        "# 5) Use diagonals to additional improvements. For example check that diagonal element have same neighbours as central one without conflicts and so on…\n",
        "\n",
        "# 6) Use CNN averaged predictions for 4 or 8 neighbours as features for central element"
      ]
    },
    {
      "cell_type": "markdown",
      "metadata": {
        "id": "yztgcSUwSDwZ"
      },
      "source": [
        "# Preprocess data\n",
        "---"
      ]
    },
    {
      "cell_type": "code",
      "execution_count": 32,
      "metadata": {},
      "outputs": [
        {
          "name": "stdout",
          "output_type": "stream",
          "text": [
            "['haze primary' 'agriculture clear primary water' 'clear primary' ...\n",
            " 'agriculture clear primary' 'agriculture clear primary road'\n",
            " 'agriculture cultivation partly_cloudy primary']\n",
            "haze\n",
            "primary\n",
            "agriculture\n",
            "clear\n",
            "water\n",
            "habitation\n",
            "road\n",
            "cultivation\n",
            "slash_burn\n",
            "cloudy\n",
            "partly_cloudy\n",
            "conventional_mine\n",
            "bare_ground\n",
            "artisinal_mine\n",
            "blooming\n",
            "selective_logging\n",
            "blow_down\n",
            "17\n"
          ]
        }
      ],
      "source": [
        "# extract labels from training data\n",
        "import pandas as pd\n",
        "\n",
        "train_data = pd.read_csv('data/train_v2.csv/train_v2.csv')\n",
        "print(train_data['tags'].values)\n",
        "\n",
        "unique_labels = []\n",
        "for line in train_data['tags'].values:\n",
        "    for label in line.split():\n",
        "        if label not in unique_labels:\n",
        "            unique_labels.append(label)\n",
        "            print(label)\n",
        "\n",
        "print(len(unique_labels))"
      ]
    },
    {
      "cell_type": "markdown",
      "metadata": {
        "id": "8xaJCZcWSH19"
      },
      "source": [
        "# Construct model\n",
        "---"
      ]
    },
    {
      "cell_type": "markdown",
      "metadata": {
        "id": "ndTycMqHSFgl"
      },
      "source": [
        "# Train model\n",
        "---"
      ]
    },
    {
      "cell_type": "markdown",
      "metadata": {
        "id": "mv0PFiSDSJr7"
      },
      "source": [
        "# View results\n",
        "---"
      ]
    }
  ],
  "metadata": {
    "colab": {
      "authorship_tag": "ABX9TyPJmOGjzu1qhuay2vw9EljN",
      "collapsed_sections": [],
      "history_visible": true,
      "include_colab_link": true,
      "name": "rainforest.ipynb",
      "provenance": []
    },
    "kernelspec": {
      "display_name": "Python 3",
      "name": "python3"
    },
    "language_info": {
      "codemirror_mode": {
        "name": "ipython",
        "version": 3
      },
      "file_extension": ".py",
      "mimetype": "text/x-python",
      "name": "python",
      "nbconvert_exporter": "python",
      "pygments_lexer": "ipython3",
      "version": "3.9.7"
    }
  },
  "nbformat": 4,
  "nbformat_minor": 2
}
